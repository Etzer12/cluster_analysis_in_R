{
 "cells": [
  {
   "cell_type": "code",
   "execution_count": 296,
   "metadata": {},
   "outputs": [],
   "source": [
    "import pandas as pd\n",
    "import numpy as np\n",
    "import os"
   ]
  },
  {
   "cell_type": "code",
   "execution_count": 297,
   "metadata": {},
   "outputs": [],
   "source": [
    "DefHC = pd.read_csv(\"DefHC.csv\", index_col=\"Index\")\n",
    "WS    = pd.read_csv(\"WebScrape.csv\", index_col=\"Index\")\n",
    "DNB   = pd.read_csv(\"DNB.csv\", index_col=\"Index\")"
   ]
  },
  {
   "cell_type": "code",
   "execution_count": 298,
   "metadata": {},
   "outputs": [
    {
     "name": "stdout",
     "output_type": "stream",
     "text": [
      "DefHC:  (4349, 26)\n",
      "WS:     (7605, 24)\n",
      "DNB:    (10195, 22)\n"
     ]
    }
   ],
   "source": [
    "print(\"DefHC: \",DefHC.shape)\n",
    "print(\"WS:    \",WS.shape)\n",
    "print(\"DNB:   \",DNB.shape)"
   ]
  },
  {
   "cell_type": "code",
   "execution_count": 299,
   "metadata": {},
   "outputs": [
    {
     "data": {
      "text/plain": [
       "Ascension Health               1231\n",
       "Tenet Healthcare               1158\n",
       "Sutter Health                   448\n",
       "Advocate Aurora Health          373\n",
       "Baylor Scott & White Health     317\n",
       "Banner Health                   277\n",
       "NYU Langone Health              275\n",
       "CommonSpirit Health             147\n",
       "Genesis Health System           104\n",
       "Tucson Medical Center            19\n",
       "Name: HealthSystem_L1_Name, dtype: int64"
      ]
     },
     "execution_count": 299,
     "metadata": {},
     "output_type": "execute_result"
    }
   ],
   "source": [
    "DefHC['HealthSystem_L1_Name'].value_counts()"
   ]
  },
  {
   "cell_type": "code",
   "execution_count": 300,
   "metadata": {},
   "outputs": [
    {
     "data": {
      "text/plain": [
       "Ascension Healthcare      2355\n",
       "Advocate Aurora Health    1708\n",
       "Baylor Scott & White       854\n",
       "Sutter Health              699\n",
       "Quest Diagnostics          603\n",
       "Tenet Healthcare           593\n",
       "New York University        521\n",
       "Banner Health               94\n",
       "TriHealth                   91\n",
       "Genesis Health System       70\n",
       "TMC Healthcare              17\n",
       "Name: HealthSystemName, dtype: int64"
      ]
     },
     "execution_count": 300,
     "metadata": {},
     "output_type": "execute_result"
    }
   ],
   "source": [
    "WS['HealthSystemName'].value_counts()"
   ]
  },
  {
   "cell_type": "code",
   "execution_count": 301,
   "metadata": {},
   "outputs": [
    {
     "data": {
      "text/plain": [
       "Quest Diagnostics Incorporated                                                                4900\n",
       "Tenet Healthcare Corporation                                                                  1904\n",
       "Ascension Health Alliance                                                                      994\n",
       "Advocate Aurora Health Inc.                                                                    903\n",
       "Banner Health                                                                                  360\n",
       "Sutter Health                                                                                  327\n",
       "Baylor Scott & White Health                                                                    322\n",
       "New York University                                                                            313\n",
       "Genesis Health System                                                                           77\n",
       "Catholic Health Initiatives                                                                     62\n",
       "TMC Healthcare                                                                                  24\n",
       "Aurora Advocate Health Inc                                                                       5\n",
       "ADVOCATE AURORA HEALTH, INC.                                                                     2\n",
       "Baylor Scott & White Health LLC                                                                  1\n",
       "                                                                                                 1\n",
       "Name: HealthSystem_L1_Name, dtype: int64"
      ]
     },
     "execution_count": 301,
     "metadata": {},
     "output_type": "execute_result"
    }
   ],
   "source": [
    "DNB['HealthSystem_L1_Name'].value_counts()"
   ]
  },
  {
   "cell_type": "code",
   "execution_count": null,
   "metadata": {},
   "outputs": [],
   "source": []
  },
  {
   "cell_type": "code",
   "execution_count": 302,
   "metadata": {},
   "outputs": [
    {
     "data": {
      "text/plain": [
       "Index(['HealthSystem_L1_DefHC_ID', 'HealthSystem_L1_Name',\n",
       "       'HealthSystem_L2_DefHC_ID', 'HealthSystem_L2_Name',\n",
       "       'HealthSystem_L3_DefHC_ID', 'HealthSystem_L3_Name', 'DefHC_ID',\n",
       "       'DefHC_Name', 'Other_Name', 'ProvType', 'ProvSubType', 'TaxID', 'NPI',\n",
       "       'Website', 'Phone', 'AddressScore', 'Address', 'Lat', 'Long', 'Adr1',\n",
       "       'Adr2', 'City', 'State', 'Zip5', 'Zip4', 'Country'],\n",
       "      dtype='object')"
      ]
     },
     "execution_count": 302,
     "metadata": {},
     "output_type": "execute_result"
    }
   ],
   "source": [
    "DefHC.columns"
   ]
  },
  {
   "cell_type": "code",
   "execution_count": 303,
   "metadata": {},
   "outputs": [
    {
     "data": {
      "text/plain": [
       "Index(['HealthSystemID', 'HealthSystemName', 'Name', 'ProviderType',\n",
       "       'ProviderSubType', 'Phone', 'Fax', 'Orig_Adr1', 'Orig_Adr2',\n",
       "       'Orig_City', 'Orig_State', 'Orig_Zip5', 'Orig_Zip4', 'AddressScore',\n",
       "       'Address', 'Lat', 'Long', 'Adr1', 'Adr2', 'City', 'State', 'Zip5',\n",
       "       'Zip4', 'Country'],\n",
       "      dtype='object')"
      ]
     },
     "execution_count": 303,
     "metadata": {},
     "output_type": "execute_result"
    }
   ],
   "source": [
    "WS.columns"
   ]
  },
  {
   "cell_type": "code",
   "execution_count": 304,
   "metadata": {},
   "outputs": [
    {
     "data": {
      "text/plain": [
       "Index(['HealthSystem_L1_DUNS_ID', 'HealthSystem_L1_Name',\n",
       "       'HealthSystem_L2_DUNS_ID', 'HealthSystem_L2_Name', 'DUNS_ID',\n",
       "       'DUNS_Name', 'Other_Name', 'Other_Name2', 'ProvType', 'Phone', 'Fax',\n",
       "       'AddressScore', 'Address', 'Lat', 'Long', 'Adr1', 'Adr2', 'City',\n",
       "       'State', 'Zip5', 'Zip4', 'Country'],\n",
       "      dtype='object')"
      ]
     },
     "execution_count": 304,
     "metadata": {},
     "output_type": "execute_result"
    }
   ],
   "source": [
    "DNB.columns"
   ]
  },
  {
   "cell_type": "code",
   "execution_count": 305,
   "metadata": {},
   "outputs": [],
   "source": [
    "import bamboolib"
   ]
  },
  {
   "cell_type": "markdown",
   "metadata": {},
   "source": [
    "### Clean: Remove Features,  Dedupe, and ReIndex"
   ]
  },
  {
   "cell_type": "markdown",
   "metadata": {},
   "source": [
    "#### DefHC"
   ]
  },
  {
   "cell_type": "code",
   "execution_count": 306,
   "metadata": {},
   "outputs": [],
   "source": [
    "DefHC = DefHC.reset_index()\n",
    "DefHC_clean = DefHC.drop(columns=['HealthSystem_L1_DefHC_ID', 'HealthSystem_L2_DefHC_ID', 'HealthSystem_L3_DefHC_ID',\n",
    "                                  'DefHC_ID', 'ProvType', 'ProvSubType', 'TaxID', 'NPI', 'Website', 'AddressScore', \n",
    "                                  'Country', 'Address', 'Zip4', 'Index', 'Phone'])"
   ]
  },
  {
   "cell_type": "code",
   "execution_count": 307,
   "metadata": {},
   "outputs": [
    {
     "data": {
      "text/plain": [
       "(4349, 12)"
      ]
     },
     "execution_count": 307,
     "metadata": {},
     "output_type": "execute_result"
    }
   ],
   "source": [
    "DefHC_clean.shape"
   ]
  },
  {
   "cell_type": "code",
   "execution_count": 308,
   "metadata": {},
   "outputs": [
    {
     "data": {
      "text/plain": [
       "(1867, 12)"
      ]
     },
     "execution_count": 308,
     "metadata": {},
     "output_type": "execute_result"
    }
   ],
   "source": [
    "DefHC_dedupe = DefHC_clean.drop_duplicates(keep='first')\n",
    "DefHC_dedupe.shape"
   ]
  },
  {
   "cell_type": "code",
   "execution_count": 309,
   "metadata": {},
   "outputs": [
    {
     "data": {
      "text/plain": [
       "Ascension Health               527\n",
       "Tenet Healthcare               483\n",
       "Advocate Aurora Health         185\n",
       "Baylor Scott & White Health    167\n",
       "Sutter Health                  163\n",
       "NYU Langone Health             142\n",
       "Banner Health                  133\n",
       "CommonSpirit Health             35\n",
       "Genesis Health System           28\n",
       "Tucson Medical Center            4\n",
       "Name: HealthSystem_L1_Name, dtype: int64"
      ]
     },
     "execution_count": 309,
     "metadata": {},
     "output_type": "execute_result"
    }
   ],
   "source": [
    "DefHC_dedupe['HealthSystem_L1_Name'].value_counts()"
   ]
  },
  {
   "cell_type": "code",
   "execution_count": 310,
   "metadata": {},
   "outputs": [],
   "source": [
    "DefHC_dedupe = DefHC_dedupe.reset_index()"
   ]
  },
  {
   "cell_type": "code",
   "execution_count": 311,
   "metadata": {},
   "outputs": [],
   "source": [
    "DefHC_dedupe = DefHC_dedupe.rename(columns={'level_0': 'DefHC_Index'})\n",
    "DefHC_dedupe = DefHC_dedupe.drop(columns=['index'])"
   ]
  },
  {
   "cell_type": "code",
   "execution_count": 312,
   "metadata": {},
   "outputs": [],
   "source": [
    "DefHC_new = DefHC_dedupe"
   ]
  },
  {
   "cell_type": "markdown",
   "metadata": {},
   "source": [
    "#### DUNS "
   ]
  },
  {
   "cell_type": "code",
   "execution_count": 313,
   "metadata": {},
   "outputs": [],
   "source": [
    "DNB = DNB.reset_index()\n",
    "DNB_clean = DNB.drop(columns=['HealthSystem_L1_DUNS_ID', 'HealthSystem_L2_DUNS_ID', 'Index', 'DUNS_ID', \n",
    "                              'ProvType', 'Phone', 'Fax', 'AddressScore', 'Address', 'Zip4', 'Country'])"
   ]
  },
  {
   "cell_type": "code",
   "execution_count": 314,
   "metadata": {},
   "outputs": [
    {
     "data": {
      "text/plain": [
       "(10195, 12)"
      ]
     },
     "execution_count": 314,
     "metadata": {},
     "output_type": "execute_result"
    }
   ],
   "source": [
    "DNB_clean.shape"
   ]
  },
  {
   "cell_type": "code",
   "execution_count": 315,
   "metadata": {},
   "outputs": [
    {
     "data": {
      "text/plain": [
       "(9761, 12)"
      ]
     },
     "execution_count": 315,
     "metadata": {},
     "output_type": "execute_result"
    }
   ],
   "source": [
    "DNB_dedupe = DNB_clean.drop_duplicates(keep='first')\n",
    "DNB_dedupe.shape"
   ]
  },
  {
   "cell_type": "code",
   "execution_count": 316,
   "metadata": {},
   "outputs": [
    {
     "data": {
      "text/plain": [
       "Quest Diagnostics Incorporated                                                                4759\n",
       "Tenet Healthcare Corporation                                                                  1832\n",
       "Ascension Health Alliance                                                                      946\n",
       "Advocate Aurora Health Inc.                                                                    863\n",
       "Banner Health                                                                                  340\n",
       "Sutter Health                                                                                  302\n",
       "New York University                                                                            286\n",
       "Baylor Scott & White Health                                                                    276\n",
       "Genesis Health System                                                                           71\n",
       "Catholic Health Initiatives                                                                     60\n",
       "TMC Healthcare                                                                                  18\n",
       "Aurora Advocate Health Inc                                                                       4\n",
       "ADVOCATE AURORA HEALTH, INC.                                                                     2\n",
       "Baylor Scott & White Health LLC                                                                  1\n",
       "                                                                                                 1\n",
       "Name: HealthSystem_L1_Name, dtype: int64"
      ]
     },
     "execution_count": 316,
     "metadata": {},
     "output_type": "execute_result"
    }
   ],
   "source": [
    "DNB_dedupe['HealthSystem_L1_Name'].value_counts()"
   ]
  },
  {
   "cell_type": "code",
   "execution_count": 317,
   "metadata": {},
   "outputs": [],
   "source": [
    "from matplotlib import pyplot as pl\n",
    "%matplotlib inline"
   ]
  },
  {
   "cell_type": "code",
   "execution_count": 318,
   "metadata": {},
   "outputs": [],
   "source": [
    "DNB_dedupe = DNB_dedupe.reset_index()"
   ]
  },
  {
   "cell_type": "code",
   "execution_count": 319,
   "metadata": {},
   "outputs": [],
   "source": [
    "DNB_dedupe = DNB_dedupe.rename(columns={'index': 'DMB_Index'})"
   ]
  },
  {
   "cell_type": "code",
   "execution_count": 320,
   "metadata": {},
   "outputs": [],
   "source": [
    "DNB_new = DNB_dedupe"
   ]
  },
  {
   "cell_type": "markdown",
   "metadata": {},
   "source": [
    "#### WebScrape"
   ]
  },
  {
   "cell_type": "code",
   "execution_count": 321,
   "metadata": {},
   "outputs": [],
   "source": [
    "WS = WS.reset_index()\n",
    "WS_clean = WS.drop(columns=['Index', 'HealthSystemID', 'ProviderType', 'ProviderSubType', 'Phone', 'Fax', \n",
    "                            'AddressScore', 'Orig_Adr1', 'Orig_Adr2', 'Orig_City', 'Orig_State', \n",
    "                            'Orig_Zip5', 'Orig_Zip4', 'Zip4', 'Country'])"
   ]
  },
  {
   "cell_type": "code",
   "execution_count": 322,
   "metadata": {},
   "outputs": [
    {
     "data": {
      "text/plain": [
       "(7412, 10)"
      ]
     },
     "execution_count": 322,
     "metadata": {},
     "output_type": "execute_result"
    }
   ],
   "source": [
    "WS_dedupe = WS_clean.drop_duplicates(keep='first')\n",
    "WS_dedupe.shape"
   ]
  },
  {
   "cell_type": "code",
   "execution_count": 323,
   "metadata": {},
   "outputs": [
    {
     "data": {
      "text/plain": [
       "Ascension Healthcare      2284\n",
       "Advocate Aurora Health    1672\n",
       "Baylor Scott & White       824\n",
       "Sutter Health              699\n",
       "Quest Diagnostics          592\n",
       "Tenet Healthcare           585\n",
       "New York University        521\n",
       "TriHealth                   91\n",
       "Banner Health               91\n",
       "Genesis Health System       36\n",
       "TMC Healthcare              17\n",
       "Name: HealthSystemName, dtype: int64"
      ]
     },
     "execution_count": 323,
     "metadata": {},
     "output_type": "execute_result"
    }
   ],
   "source": [
    "WS_dedupe['HealthSystemName'].value_counts()"
   ]
  },
  {
   "cell_type": "code",
   "execution_count": 324,
   "metadata": {},
   "outputs": [
    {
     "data": {
      "text/plain": [
       "Index(['HealthSystemName', 'Name', 'Address', 'Lat', 'Long', 'Adr1', 'Adr2',\n",
       "       'City', 'State', 'Zip5'],\n",
       "      dtype='object')"
      ]
     },
     "execution_count": 324,
     "metadata": {},
     "output_type": "execute_result"
    }
   ],
   "source": [
    "WS_dedupe.columns"
   ]
  },
  {
   "cell_type": "code",
   "execution_count": 325,
   "metadata": {},
   "outputs": [],
   "source": [
    "WS_clean = WS_dedupe"
   ]
  },
  {
   "cell_type": "code",
   "execution_count": 326,
   "metadata": {},
   "outputs": [],
   "source": [
    "WS_clean = WS_clean.reset_index()\n",
    "WS_clean = WS_clean.rename(columns={'index': 'WS_Index'})"
   ]
  },
  {
   "cell_type": "markdown",
   "metadata": {},
   "source": [
    "### Matching (RecordLinkage) "
   ]
  },
  {
   "cell_type": "code",
   "execution_count": 328,
   "metadata": {},
   "outputs": [],
   "source": [
    "import recordlinkage as rl\n",
    "from   recordlinkage.compare import Geographic\n",
    "from   recordlinkage.preprocessing import clean, phonetic # Since we will be using Lat/Long and HealthSystem Name, no need to clean data"
   ]
  },
  {
   "cell_type": "code",
   "execution_count": 329,
   "metadata": {},
   "outputs": [
    {
     "name": "stdout",
     "output_type": "stream",
     "text": [
      "WARNING:recordlinkage:indexing - performance warning - A full index can result in large number of record pairs.\n"
     ]
    },
    {
     "data": {
      "text/plain": [
       "<Index>"
      ]
     },
     "execution_count": 329,
     "metadata": {},
     "output_type": "execute_result"
    }
   ],
   "source": [
    "indexer = rl.Index()\n",
    "indexer.full()"
   ]
  },
  {
   "cell_type": "code",
   "execution_count": 330,
   "metadata": {},
   "outputs": [
    {
     "name": "stdout",
     "output_type": "stream",
     "text": [
      "44338055\n"
     ]
    }
   ],
   "source": [
    "candidates = indexer.index(DNB_clean, DefHC_clean)\n",
    "print(len(candidates))"
   ]
  },
  {
   "cell_type": "code",
   "execution_count": 331,
   "metadata": {},
   "outputs": [
    {
     "name": "stdout",
     "output_type": "stream",
     "text": [
      "3080380\n"
     ]
    }
   ],
   "source": [
    "indexer_1 = rl.Index()\n",
    "indexer_1.block(left_on='State', right_on='State')\n",
    "candidates_1= indexer_1.index(DNB_clean, DefHC_clean)\n",
    "print(len(candidates_1))"
   ]
  },
  {
   "cell_type": "code",
   "execution_count": null,
   "metadata": {},
   "outputs": [],
   "source": []
  },
  {
   "cell_type": "code",
   "execution_count": 332,
   "metadata": {},
   "outputs": [
    {
     "name": "stdout",
     "output_type": "stream",
     "text": [
      "5101701\n"
     ]
    }
   ],
   "source": [
    "indexer_2 = rl.Index()\n",
    "indexer_2.sortedneighbourhood(left_on='State', right_on='State')\n",
    "candidates_2 = indexer_2.index(DNB_clean, DefHC_clean)\n",
    "print(len(candidates_2))"
   ]
  },
  {
   "cell_type": "code",
   "execution_count": 286,
   "metadata": {},
   "outputs": [],
   "source": [
    "# Skip\n",
    "compare = rl.Compare()\n",
    "\n",
    "compare.geo(left_on_lat = \"Lat\", left_on_lng = \"Long\", \n",
    "            right_on_lat = \"Lat\", right_on_lng = \"Long\", \n",
    "            method = \"linear\", offset = 0.0, \n",
    "            scale = 1.0, origin = 0.0, \n",
    "            missing_value = 0.0, label = None)\n",
    "\n",
    "features   = compare.compute(candidates, DNB_clean,DefHC_clean)\n",
    "features_1 = compare.compute(candidates_1, DNB_clean,DefHC_clean)\n",
    "features_2 = compare.compute(candidates_2, DNB_clean,DefHC_clean)"
   ]
  },
  {
   "cell_type": "code",
   "execution_count": 288,
   "metadata": {},
   "outputs": [
    {
     "data": {
      "text/plain": [
       "1.000000       11913\n",
       "0.999906          48\n",
       "0.999887           5\n",
       "0.999855           1\n",
       "0.999855           3\n",
       "              ...   \n",
       "0.000212           1\n",
       "0.000185           1\n",
       "0.000147           1\n",
       "0.000114           6\n",
       "0.000000    44259131\n",
       "Length: 12568, dtype: int64"
      ]
     },
     "execution_count": 288,
     "metadata": {},
     "output_type": "execute_result"
    }
   ],
   "source": [
    "features.sum(axis=1).value_counts().sort_index(ascending=False)"
   ]
  },
  {
   "cell_type": "code",
   "execution_count": 289,
   "metadata": {},
   "outputs": [
    {
     "data": {
      "text/plain": [
       "1.000000      11913\n",
       "0.999906         48\n",
       "0.999887          5\n",
       "0.999855          1\n",
       "0.999855          3\n",
       "             ...   \n",
       "0.000212          1\n",
       "0.000185          1\n",
       "0.000147          1\n",
       "0.000114          6\n",
       "0.000000    3001702\n",
       "Length: 12438, dtype: int64"
      ]
     },
     "execution_count": 289,
     "metadata": {},
     "output_type": "execute_result"
    }
   ],
   "source": [
    "features_1.sum(axis=1).value_counts().sort_index(ascending=False)"
   ]
  },
  {
   "cell_type": "code",
   "execution_count": 290,
   "metadata": {},
   "outputs": [
    {
     "data": {
      "text/plain": [
       "1.000000      11913\n",
       "0.999906         48\n",
       "0.999887          5\n",
       "0.999855          1\n",
       "0.999855          3\n",
       "             ...   \n",
       "0.000212          1\n",
       "0.000185          1\n",
       "0.000147          1\n",
       "0.000114          6\n",
       "0.000000    5023023\n",
       "Length: 12438, dtype: int64"
      ]
     },
     "execution_count": 290,
     "metadata": {},
     "output_type": "execute_result"
    }
   ],
   "source": [
    "features_2.sum(axis=1).value_counts().sort_index(ascending=False)"
   ]
  },
  {
   "cell_type": "code",
   "execution_count": null,
   "metadata": {},
   "outputs": [],
   "source": []
  },
  {
   "cell_type": "code",
   "execution_count": 333,
   "metadata": {},
   "outputs": [],
   "source": [
    "compare = rl.Compare()\n",
    "compare.exact  ('Lat',  'Lat',  label='Latitude')\n",
    "compare.exact  ('Long', 'Long', label='Longitude')\n",
    "compare.string ('HealthSystem_L1_Name',\n",
    "                'HealthSystem_L1_Name',\n",
    "                 threshold=0.85,\n",
    "                 label='HealthSystem_L1_Name')\n",
    "\n",
    "features   = compare.compute(candidates,   DNB_clean,DefHC_clean)\n",
    "features_1 = compare.compute(candidates_1, DNB_clean,DefHC_clean)\n",
    "features_2 = compare.compute(candidates_2, DNB_clean,DefHC_clean)"
   ]
  },
  {
   "cell_type": "code",
   "execution_count": 334,
   "metadata": {},
   "outputs": [
    {
     "data": {
      "application/vnd.jupyter.widget-view+json": {
       "model_id": "3fb37b5ffdb0440fac89d8f32dd98255"
      },
      "text/html": [
       "<div>\n",
       "<style scoped>\n",
       "    .dataframe tbody tr th:only-of-type {\n",
       "        vertical-align: middle;\n",
       "    }\n",
       "\n",
       "    .dataframe tbody tr th {\n",
       "        vertical-align: top;\n",
       "    }\n",
       "\n",
       "    .dataframe thead th {\n",
       "        text-align: right;\n",
       "    }\n",
       "</style>\n",
       "<table border=\"1\" class=\"dataframe\">\n",
       "  <thead>\n",
       "    <tr style=\"text-align: right;\">\n",
       "      <th></th>\n",
       "      <th></th>\n",
       "      <th>Latitude</th>\n",
       "      <th>Longitude</th>\n",
       "      <th>HealthSystem_L1_Name</th>\n",
       "    </tr>\n",
       "  </thead>\n",
       "  <tbody>\n",
       "    <tr>\n",
       "      <th rowspan=\"5\" valign=\"top\">0</th>\n",
       "      <th>0</th>\n",
       "      <td>0</td>\n",
       "      <td>0</td>\n",
       "      <td>0.0</td>\n",
       "    </tr>\n",
       "    <tr>\n",
       "      <th>1</th>\n",
       "      <td>0</td>\n",
       "      <td>0</td>\n",
       "      <td>0.0</td>\n",
       "    </tr>\n",
       "    <tr>\n",
       "      <th>2</th>\n",
       "      <td>0</td>\n",
       "      <td>0</td>\n",
       "      <td>0.0</td>\n",
       "    </tr>\n",
       "    <tr>\n",
       "      <th>3</th>\n",
       "      <td>0</td>\n",
       "      <td>0</td>\n",
       "      <td>0.0</td>\n",
       "    </tr>\n",
       "    <tr>\n",
       "      <th>4</th>\n",
       "      <td>0</td>\n",
       "      <td>0</td>\n",
       "      <td>0.0</td>\n",
       "    </tr>\n",
       "    <tr>\n",
       "      <th>...</th>\n",
       "      <th>...</th>\n",
       "      <td>...</td>\n",
       "      <td>...</td>\n",
       "      <td>...</td>\n",
       "    </tr>\n",
       "    <tr>\n",
       "      <th rowspan=\"5\" valign=\"top\">10194</th>\n",
       "      <th>4344</th>\n",
       "      <td>0</td>\n",
       "      <td>0</td>\n",
       "      <td>0.0</td>\n",
       "    </tr>\n",
       "    <tr>\n",
       "      <th>4345</th>\n",
       "      <td>0</td>\n",
       "      <td>0</td>\n",
       "      <td>0.0</td>\n",
       "    </tr>\n",
       "    <tr>\n",
       "      <th>4346</th>\n",
       "      <td>0</td>\n",
       "      <td>0</td>\n",
       "      <td>0.0</td>\n",
       "    </tr>\n",
       "    <tr>\n",
       "      <th>4347</th>\n",
       "      <td>0</td>\n",
       "      <td>0</td>\n",
       "      <td>0.0</td>\n",
       "    </tr>\n",
       "    <tr>\n",
       "      <th>4348</th>\n",
       "      <td>0</td>\n",
       "      <td>0</td>\n",
       "      <td>0.0</td>\n",
       "    </tr>\n",
       "  </tbody>\n",
       "</table>\n",
       "<p>44338055 rows × 3 columns</p>\n",
       "</div>"
      ],
      "text/plain": [
       "            Latitude  Longitude  HealthSystem_L1_Name\n",
       "0     0            0          0                   0.0\n",
       "      1            0          0                   0.0\n",
       "      2            0          0                   0.0\n",
       "      3            0          0                   0.0\n",
       "      4            0          0                   0.0\n",
       "...              ...        ...                   ...\n",
       "10194 4344         0          0                   0.0\n",
       "      4345         0          0                   0.0\n",
       "      4346         0          0                   0.0\n",
       "      4347         0          0                   0.0\n",
       "      4348         0          0                   0.0\n",
       "\n",
       "[44338055 rows x 3 columns]"
      ]
     },
     "metadata": {},
     "output_type": "display_data"
    }
   ],
   "source": [
    "features = features.reset_index()\n",
    "features"
   ]
  },
  {
   "cell_type": "code",
   "execution_count": 335,
   "metadata": {},
   "outputs": [
    {
     "data": {
      "application/vnd.jupyter.widget-view+json": {
       "model_id": "424114ee4c0741af92c73914c0c5da25"
      },
      "text/html": [
       "<div>\n",
       "<style scoped>\n",
       "    .dataframe tbody tr th:only-of-type {\n",
       "        vertical-align: middle;\n",
       "    }\n",
       "\n",
       "    .dataframe tbody tr th {\n",
       "        vertical-align: top;\n",
       "    }\n",
       "\n",
       "    .dataframe thead th {\n",
       "        text-align: right;\n",
       "    }\n",
       "</style>\n",
       "<table border=\"1\" class=\"dataframe\">\n",
       "  <thead>\n",
       "    <tr style=\"text-align: right;\">\n",
       "      <th></th>\n",
       "      <th></th>\n",
       "      <th>Latitude</th>\n",
       "      <th>Longitude</th>\n",
       "      <th>HealthSystem_L1_Name</th>\n",
       "    </tr>\n",
       "  </thead>\n",
       "  <tbody>\n",
       "    <tr>\n",
       "      <th rowspan=\"5\" valign=\"top\">0</th>\n",
       "      <th>1446</th>\n",
       "      <td>0</td>\n",
       "      <td>0</td>\n",
       "      <td>0.0</td>\n",
       "    </tr>\n",
       "    <tr>\n",
       "      <th>1621</th>\n",
       "      <td>0</td>\n",
       "      <td>0</td>\n",
       "      <td>0.0</td>\n",
       "    </tr>\n",
       "    <tr>\n",
       "      <th>1667</th>\n",
       "      <td>0</td>\n",
       "      <td>0</td>\n",
       "      <td>0.0</td>\n",
       "    </tr>\n",
       "    <tr>\n",
       "      <th>1668</th>\n",
       "      <td>0</td>\n",
       "      <td>0</td>\n",
       "      <td>0.0</td>\n",
       "    </tr>\n",
       "    <tr>\n",
       "      <th>1669</th>\n",
       "      <td>0</td>\n",
       "      <td>0</td>\n",
       "      <td>0.0</td>\n",
       "    </tr>\n",
       "    <tr>\n",
       "      <th>...</th>\n",
       "      <th>...</th>\n",
       "      <td>...</td>\n",
       "      <td>...</td>\n",
       "      <td>...</td>\n",
       "    </tr>\n",
       "    <tr>\n",
       "      <th rowspan=\"5\" valign=\"top\">6929</th>\n",
       "      <th>293</th>\n",
       "      <td>0</td>\n",
       "      <td>0</td>\n",
       "      <td>0.0</td>\n",
       "    </tr>\n",
       "    <tr>\n",
       "      <th>294</th>\n",
       "      <td>0</td>\n",
       "      <td>0</td>\n",
       "      <td>0.0</td>\n",
       "    </tr>\n",
       "    <tr>\n",
       "      <th>295</th>\n",
       "      <td>0</td>\n",
       "      <td>0</td>\n",
       "      <td>0.0</td>\n",
       "    </tr>\n",
       "    <tr>\n",
       "      <th>1708</th>\n",
       "      <td>0</td>\n",
       "      <td>0</td>\n",
       "      <td>0.0</td>\n",
       "    </tr>\n",
       "    <tr>\n",
       "      <th>1709</th>\n",
       "      <td>0</td>\n",
       "      <td>0</td>\n",
       "      <td>0.0</td>\n",
       "    </tr>\n",
       "  </tbody>\n",
       "</table>\n",
       "<p>3080380 rows × 3 columns</p>\n",
       "</div>"
      ],
      "text/plain": [
       "           Latitude  Longitude  HealthSystem_L1_Name\n",
       "0    1446         0          0                   0.0\n",
       "     1621         0          0                   0.0\n",
       "     1667         0          0                   0.0\n",
       "     1668         0          0                   0.0\n",
       "     1669         0          0                   0.0\n",
       "...             ...        ...                   ...\n",
       "6929 293          0          0                   0.0\n",
       "     294          0          0                   0.0\n",
       "     295          0          0                   0.0\n",
       "     1708         0          0                   0.0\n",
       "     1709         0          0                   0.0\n",
       "\n",
       "[3080380 rows x 3 columns]"
      ]
     },
     "metadata": {},
     "output_type": "display_data"
    }
   ],
   "source": [
    "features_1 = features_1.reset_index()\n",
    "features_1"
   ]
  },
  {
   "cell_type": "code",
   "execution_count": 336,
   "metadata": {},
   "outputs": [
    {
     "data": {
      "application/vnd.jupyter.widget-view+json": {
       "model_id": "6cd4cc54595f402894a33ba1c79bdb6b"
      },
      "text/html": [
       "<div>\n",
       "<style scoped>\n",
       "    .dataframe tbody tr th:only-of-type {\n",
       "        vertical-align: middle;\n",
       "    }\n",
       "\n",
       "    .dataframe tbody tr th {\n",
       "        vertical-align: top;\n",
       "    }\n",
       "\n",
       "    .dataframe thead th {\n",
       "        text-align: right;\n",
       "    }\n",
       "</style>\n",
       "<table border=\"1\" class=\"dataframe\">\n",
       "  <thead>\n",
       "    <tr style=\"text-align: right;\">\n",
       "      <th></th>\n",
       "      <th></th>\n",
       "      <th>Latitude</th>\n",
       "      <th>Longitude</th>\n",
       "      <th>HealthSystem_L1_Name</th>\n",
       "    </tr>\n",
       "  </thead>\n",
       "  <tbody>\n",
       "    <tr>\n",
       "      <th rowspan=\"2\" valign=\"top\">0</th>\n",
       "      <th>3197</th>\n",
       "      <td>0</td>\n",
       "      <td>0</td>\n",
       "      <td>0.0</td>\n",
       "    </tr>\n",
       "    <tr>\n",
       "      <th>3198</th>\n",
       "      <td>0</td>\n",
       "      <td>0</td>\n",
       "      <td>0.0</td>\n",
       "    </tr>\n",
       "    <tr>\n",
       "      <th rowspan=\"2\" valign=\"top\">2</th>\n",
       "      <th>3197</th>\n",
       "      <td>0</td>\n",
       "      <td>0</td>\n",
       "      <td>0.0</td>\n",
       "    </tr>\n",
       "    <tr>\n",
       "      <th>3198</th>\n",
       "      <td>0</td>\n",
       "      <td>0</td>\n",
       "      <td>0.0</td>\n",
       "    </tr>\n",
       "    <tr>\n",
       "      <th>48</th>\n",
       "      <th>3197</th>\n",
       "      <td>0</td>\n",
       "      <td>0</td>\n",
       "      <td>0.0</td>\n",
       "    </tr>\n",
       "    <tr>\n",
       "      <th>...</th>\n",
       "      <th>...</th>\n",
       "      <td>...</td>\n",
       "      <td>...</td>\n",
       "      <td>...</td>\n",
       "    </tr>\n",
       "    <tr>\n",
       "      <th rowspan=\"5\" valign=\"top\">7472</th>\n",
       "      <th>1613</th>\n",
       "      <td>0</td>\n",
       "      <td>0</td>\n",
       "      <td>0.0</td>\n",
       "    </tr>\n",
       "    <tr>\n",
       "      <th>1614</th>\n",
       "      <td>0</td>\n",
       "      <td>0</td>\n",
       "      <td>0.0</td>\n",
       "    </tr>\n",
       "    <tr>\n",
       "      <th>1615</th>\n",
       "      <td>0</td>\n",
       "      <td>0</td>\n",
       "      <td>0.0</td>\n",
       "    </tr>\n",
       "    <tr>\n",
       "      <th>1616</th>\n",
       "      <td>0</td>\n",
       "      <td>0</td>\n",
       "      <td>0.0</td>\n",
       "    </tr>\n",
       "    <tr>\n",
       "      <th>1663</th>\n",
       "      <td>0</td>\n",
       "      <td>0</td>\n",
       "      <td>0.0</td>\n",
       "    </tr>\n",
       "  </tbody>\n",
       "</table>\n",
       "<p>5101701 rows × 3 columns</p>\n",
       "</div>"
      ],
      "text/plain": [
       "           Latitude  Longitude  HealthSystem_L1_Name\n",
       "0    3197         0          0                   0.0\n",
       "     3198         0          0                   0.0\n",
       "2    3197         0          0                   0.0\n",
       "     3198         0          0                   0.0\n",
       "48   3197         0          0                   0.0\n",
       "...             ...        ...                   ...\n",
       "7472 1613         0          0                   0.0\n",
       "     1614         0          0                   0.0\n",
       "     1615         0          0                   0.0\n",
       "     1616         0          0                   0.0\n",
       "     1663         0          0                   0.0\n",
       "\n",
       "[5101701 rows x 3 columns]"
      ]
     },
     "metadata": {},
     "output_type": "display_data"
    }
   ],
   "source": [
    "features_2 = features_2.reset_index()\n",
    "features_2"
   ]
  },
  {
   "cell_type": "code",
   "execution_count": 337,
   "metadata": {},
   "outputs": [
    {
     "data": {
      "text/plain": [
       "2.0       11913\n",
       "1.0         280\n",
       "0.0    44325862\n",
       "dtype: int64"
      ]
     },
     "execution_count": 337,
     "metadata": {},
     "output_type": "execute_result"
    }
   ],
   "source": [
    "features.sum(axis=1).value_counts().sort_index(ascending=False)"
   ]
  },
  {
   "cell_type": "code",
   "execution_count": 338,
   "metadata": {},
   "outputs": [
    {
     "data": {
      "text/plain": [
       "2.0      11913\n",
       "1.0        280\n",
       "0.0    3068187\n",
       "dtype: int64"
      ]
     },
     "execution_count": 338,
     "metadata": {},
     "output_type": "execute_result"
    }
   ],
   "source": [
    "features_1.sum(axis=1).value_counts().sort_index(ascending=False)"
   ]
  },
  {
   "cell_type": "code",
   "execution_count": 339,
   "metadata": {},
   "outputs": [
    {
     "data": {
      "text/plain": [
       "2.0      11913\n",
       "1.0        280\n",
       "0.0    5089508\n",
       "dtype: int64"
      ]
     },
     "execution_count": 339,
     "metadata": {},
     "output_type": "execute_result"
    }
   ],
   "source": [
    "features_2.sum(axis=1).value_counts().sort_index(ascending=False)\n"
   ]
  },
  {
   "cell_type": "code",
   "execution_count": 340,
   "metadata": {},
   "outputs": [
    {
     "data": {
      "application/vnd.jupyter.widget-view+json": {
       "model_id": "f976c524db4749d68b9c093a8b0f39ec"
      },
      "text/html": [
       "<div>\n",
       "<style scoped>\n",
       "    .dataframe tbody tr th:only-of-type {\n",
       "        vertical-align: middle;\n",
       "    }\n",
       "\n",
       "    .dataframe tbody tr th {\n",
       "        vertical-align: top;\n",
       "    }\n",
       "\n",
       "    .dataframe thead th {\n",
       "        text-align: right;\n",
       "    }\n",
       "</style>\n",
       "<table border=\"1\" class=\"dataframe\">\n",
       "  <thead>\n",
       "    <tr style=\"text-align: right;\">\n",
       "      <th></th>\n",
       "      <th>level_0</th>\n",
       "      <th>level_1</th>\n",
       "      <th>Latitude</th>\n",
       "      <th>Longitude</th>\n",
       "      <th>HealthSystem_L1_Name</th>\n",
       "    </tr>\n",
       "  </thead>\n",
       "  <tbody>\n",
       "    <tr>\n",
       "      <th>0</th>\n",
       "      <td>6</td>\n",
       "      <td>4072</td>\n",
       "      <td>1</td>\n",
       "      <td>1</td>\n",
       "      <td>0.0</td>\n",
       "    </tr>\n",
       "    <tr>\n",
       "      <th>1</th>\n",
       "      <td>6</td>\n",
       "      <td>4073</td>\n",
       "      <td>1</td>\n",
       "      <td>1</td>\n",
       "      <td>0.0</td>\n",
       "    </tr>\n",
       "    <tr>\n",
       "      <th>2</th>\n",
       "      <td>6</td>\n",
       "      <td>4074</td>\n",
       "      <td>1</td>\n",
       "      <td>1</td>\n",
       "      <td>0.0</td>\n",
       "    </tr>\n",
       "    <tr>\n",
       "      <th>3</th>\n",
       "      <td>6</td>\n",
       "      <td>4075</td>\n",
       "      <td>1</td>\n",
       "      <td>1</td>\n",
       "      <td>0.0</td>\n",
       "    </tr>\n",
       "    <tr>\n",
       "      <th>4</th>\n",
       "      <td>6</td>\n",
       "      <td>4076</td>\n",
       "      <td>1</td>\n",
       "      <td>1</td>\n",
       "      <td>0.0</td>\n",
       "    </tr>\n",
       "    <tr>\n",
       "      <th>...</th>\n",
       "      <td>...</td>\n",
       "      <td>...</td>\n",
       "      <td>...</td>\n",
       "      <td>...</td>\n",
       "      <td>...</td>\n",
       "    </tr>\n",
       "    <tr>\n",
       "      <th>11908</th>\n",
       "      <td>10191</td>\n",
       "      <td>2215</td>\n",
       "      <td>1</td>\n",
       "      <td>1</td>\n",
       "      <td>0.0</td>\n",
       "    </tr>\n",
       "    <tr>\n",
       "      <th>11909</th>\n",
       "      <td>10191</td>\n",
       "      <td>2297</td>\n",
       "      <td>1</td>\n",
       "      <td>1</td>\n",
       "      <td>0.0</td>\n",
       "    </tr>\n",
       "    <tr>\n",
       "      <th>11910</th>\n",
       "      <td>10192</td>\n",
       "      <td>2267</td>\n",
       "      <td>1</td>\n",
       "      <td>1</td>\n",
       "      <td>0.0</td>\n",
       "    </tr>\n",
       "    <tr>\n",
       "      <th>11911</th>\n",
       "      <td>10194</td>\n",
       "      <td>1448</td>\n",
       "      <td>1</td>\n",
       "      <td>1</td>\n",
       "      <td>0.0</td>\n",
       "    </tr>\n",
       "    <tr>\n",
       "      <th>11912</th>\n",
       "      <td>10194</td>\n",
       "      <td>1449</td>\n",
       "      <td>1</td>\n",
       "      <td>1</td>\n",
       "      <td>0.0</td>\n",
       "    </tr>\n",
       "  </tbody>\n",
       "</table>\n",
       "<p>11913 rows × 5 columns</p>\n",
       "</div>"
      ],
      "text/plain": [
       "       level_0  level_1  Latitude  Longitude  HealthSystem_L1_Name\n",
       "0            6     4072         1          1                   0.0\n",
       "1            6     4073         1          1                   0.0\n",
       "2            6     4074         1          1                   0.0\n",
       "3            6     4075         1          1                   0.0\n",
       "4            6     4076         1          1                   0.0\n",
       "...        ...      ...       ...        ...                   ...\n",
       "11908    10191     2215         1          1                   0.0\n",
       "11909    10191     2297         1          1                   0.0\n",
       "11910    10192     2267         1          1                   0.0\n",
       "11911    10194     1448         1          1                   0.0\n",
       "11912    10194     1449         1          1                   0.0\n",
       "\n",
       "[11913 rows x 5 columns]"
      ]
     },
     "metadata": {},
     "output_type": "display_data"
    }
   ],
   "source": [
    "potential_matches = features[features.sum(axis=1) > 1].reset_index()\n",
    "potential_matches"
   ]
  },
  {
   "cell_type": "code",
   "execution_count": 365,
   "metadata": {},
   "outputs": [
    {
     "data": {
      "text/plain": [
       "DMB_Index                                                            7631\n",
       "HealthSystem_L1_Name    Ascension Health Alliance                     ...\n",
       "HealthSystem_L2_Name    Ascension Health Alliance                     ...\n",
       "DUNS_Name               Clifton Park Internal Medicine                ...\n",
       "Other_Name                                                            ...\n",
       "Other_Name2                                                           ...\n",
       "Lat                                                              -73.7888\n",
       "Long                                                              42.8651\n",
       "Adr1                                                     1 Tallow Wood Dr\n",
       "Adr2                                                                  NaN\n",
       "City                                                         Clifton Park\n",
       "State                                                                  NY\n",
       "Zip5                                                                12065\n",
       "Name: 7353, dtype: object"
      ]
     },
     "execution_count": 365,
     "metadata": {},
     "output_type": "execute_result"
    }
   ],
   "source": [
    "DNB_new.loc[7353,:]"
   ]
  },
  {
   "cell_type": "code",
   "execution_count": 364,
   "metadata": {},
   "outputs": [
    {
     "data": {
      "text/plain": [
       "HealthSystem_L1_Name                     Baylor Scott & White Health\n",
       "HealthSystem_L2_Name                                             NaN\n",
       "HealthSystem_L3_Name                                             NaN\n",
       "DefHC_Name              Baylor Scott & White Medical Center - Temple\n",
       "Other_Name                                                       NaN\n",
       "Lat                                                         -97.3658\n",
       "Long                                                         31.0789\n",
       "Adr1                                                  2401 S 31st St\n",
       "Adr2                                                             NaN\n",
       "City                                                          Temple\n",
       "State                                                             TX\n",
       "Zip5                                                           76504\n",
       "Name: 418, dtype: object"
      ]
     },
     "execution_count": 364,
     "metadata": {},
     "output_type": "execute_result"
    }
   ],
   "source": [
    "DefHC_clean.loc[418,:]"
   ]
  },
  {
   "cell_type": "code",
   "execution_count": null,
   "metadata": {},
   "outputs": [],
   "source": []
  },
  {
   "cell_type": "code",
   "execution_count": null,
   "metadata": {},
   "outputs": [],
   "source": []
  },
  {
   "cell_type": "code",
   "execution_count": null,
   "metadata": {},
   "outputs": [],
   "source": []
  }
 ],
 "metadata": {
  "kernelspec": {
   "display_name": "Python 3",
   "language": "python",
   "name": "python3"
  },
  "language_info": {
   "codemirror_mode": {
    "name": "ipython",
    "version": 3
   },
   "file_extension": ".py",
   "mimetype": "text/x-python",
   "name": "python",
   "nbconvert_exporter": "python",
   "pygments_lexer": "ipython3",
   "version": "3.7.6"
  }
 },
 "nbformat": 4,
 "nbformat_minor": 4
}
